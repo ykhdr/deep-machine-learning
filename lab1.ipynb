{
  "nbformat": 4,
  "nbformat_minor": 0,
  "metadata": {
    "colab": {
      "provenance": []
    },
    "kernelspec": {
      "name": "python3",
      "display_name": "Python 3"
    },
    "language_info": {
      "name": "python"
    }
  },
  "cells": [
    {
      "cell_type": "markdown",
      "source": [
        "# Генерация выборки для заданной функции с моделированием случайной ошибки"
      ],
      "metadata": {
        "id": "yqqBOcTPY6-s"
      }
    },
    {
      "cell_type": "markdown",
      "source": [
        "1. Сформировать выборку $\\{(x^{i},y^{i})\\}^N_{i=1},\\: y^{(i)}=f(x^{(i)})+\\varepsilon$, где $\\varepsilon - $ ошибка, генерируемая случайно из заданного интервала $[-\\varepsilon _0,+\\varepsilon_0],\\: \\varepsilon >0$. Аргументы $x^{(i)}$ генерируются случайно в соответствии с рановмерным распределением на интервале $[-1,-1]$.\n",
        "\n",
        "   Варианты распределения ошибки на интервале $[-\\varepsilon_0, +\\varepsilon_0]$:\n",
        " - ошибка $\\varepsilon$ распределена равномерно\n",
        " - ошибка $\\varepsilon$ распределена нормально\n",
        "\n",
        "   Варианты функции $f$:\n",
        " - $f = ax^3 + bx^2 + cx + d$, коэффициенты $a,b,c,d$ сгенерировать случайно из интервала $[-3,3]$\n",
        " - f = $xsin(2\\pi x)$\n",
        "\n",
        "\n",
        "2. Отобразить на координатной плоскости график функции $f$ и выборку, полученную по ней. Выбрите разные варинты значения $\\varepsilon_0$ и разные параметры нормального распределения"
      ],
      "metadata": {
        "id": "xOssW2iurf8z"
      }
    },
    {
      "cell_type": "markdown",
      "source": [
        "## Решение"
      ],
      "metadata": {
        "id": "NscRHRjwucf_"
      }
    },
    {
      "cell_type": "markdown",
      "source": [
        "В качестве распределения ошибки $\\varepsilon$ было взято равномерное распределение\n",
        "\n",
        "В качестве функции $f$ была взята функция $f = x sin(2 \\pi x)$"
      ],
      "metadata": {
        "id": "MUBF5L7_vbDm"
      }
    },
    {
      "cell_type": "markdown",
      "source": [
        "Устанавливаем значения количество элементов в выборке и величину ошибки"
      ],
      "metadata": {
        "id": "vvjEAPxRZL-W"
      }
    },
    {
      "cell_type": "code",
      "execution_count": 383,
      "metadata": {
        "id": "vL8yARMCdmiH"
      },
      "outputs": [],
      "source": [
        "N = 20\n",
        "e_0 = 1"
      ]
    },
    {
      "cell_type": "markdown",
      "source": [
        "Определяем функцию f"
      ],
      "metadata": {
        "id": "qsC6G80xZfSz"
      }
    },
    {
      "cell_type": "code",
      "source": [
        "import numpy as np\n",
        "import random\n",
        "\n",
        "def f(x):\n",
        "    # Используем равномерное распределение для ошибки\n",
        "    return (x * np.sin(2 * np.pi * x)) + np.random.uniform(-e_0, e_0, 1)\n"
      ],
      "metadata": {
        "id": "TkK2K-DOZpJX"
      },
      "execution_count": 384,
      "outputs": []
    },
    {
      "cell_type": "markdown",
      "source": [
        "Формируем выборку"
      ],
      "metadata": {
        "id": "cAKg90p_Zy_L"
      }
    },
    {
      "cell_type": "code",
      "source": [
        "x = np.array([np.random.uniform(-1, 1) for _ in range(N)])\n",
        "y = np.zeros(shape=(N))\n",
        "for i in range(N):\n",
        "  y[i] = f(x[i])"
      ],
      "metadata": {
        "id": "TmaygSUtZ-es"
      },
      "execution_count": null,
      "outputs": []
    },
    {
      "cell_type": "markdown",
      "source": [
        "Строим истинную функцию"
      ],
      "metadata": {
        "id": "GapcDzIKaAdU"
      }
    },
    {
      "cell_type": "code",
      "source": [
        "xx = np.arange(-1, 1, 0.001)\n",
        "yy = np.array(xx * np.sin(2 * np.pi * xx))"
      ],
      "metadata": {
        "id": "ZW65uYv8aY5h"
      },
      "execution_count": 386,
      "outputs": []
    },
    {
      "cell_type": "markdown",
      "source": [
        "Отображаем результаты на графике"
      ],
      "metadata": {
        "id": "iKJUHg5Yaeb7"
      }
    },
    {
      "cell_type": "code",
      "source": [
        "import matplotlib.pyplot as plt\n",
        "\n",
        "plt.scatter(x, y)\n",
        "plt.plot(xx, yy)\n",
        "plt.xlabel('x')\n",
        "plt.ylabel('y')\n",
        "\n",
        "plt.show()"
      ],
      "metadata": {
        "colab": {
          "base_uri": "https://localhost:8080/",
          "height": 449
        },
        "id": "sWU2KFM5amV1",
        "outputId": "3db51c0f-6ff5-498f-87b3-8c7716269635"
      },
      "execution_count": 387,
      "outputs": [
        {
          "output_type": "display_data",
          "data": {
            "text/plain": [
              "<Figure size 640x480 with 1 Axes>"
            ],
            "image/png": "[encoded data removed]"
          },
          "metadata": {}
        }
      ]
    },
    {
      "cell_type": "markdown",
      "source": [
        "# Восстановление функциональной зависимости с помощью полиномаильной регрессии"
      ],
      "metadata": {
        "id": "sGtIzBAqb5FW"
      }
    },
    {
      "cell_type": "markdown",
      "source": [
        "Реализуйте с помощью полиномиальной регрессии для полученной выборки восстановление функциональной зависимости, по которой получена выборка. Приведите примеры выборок и степеней полинома, при которых:\n",
        "\n",
        "- происходит недообучение\n",
        "- происходит переобучение\n",
        "- полученная функциональная зависимость пригодна для прогнозирования значения восстанавливаемой функциональной зависимости в $x$, не содержащемся в выборке  "
      ],
      "metadata": {
        "id": "9YcV1XD5v88J"
      }
    },
    {
      "cell_type": "markdown",
      "source": [
        "## Решение"
      ],
      "metadata": {
        "id": "VRBYcM32wZmu"
      }
    },
    {
      "cell_type": "markdown",
      "source": [
        "Определяем степень полинома, а также матрицу A и вектор b для решения уравнения Ac=b (ищем вектор коэффициентов полинома)"
      ],
      "metadata": {
        "id": "LYDImXKrcBhy"
      }
    },
    {
      "cell_type": "code",
      "source": [
        "M = 15\n",
        "A = np.zeros(shape=(M,M))\n",
        "b = np.zeros(shape = (M))"
      ],
      "metadata": {
        "id": "SEMtKQDYcAlj"
      },
      "execution_count": 388,
      "outputs": []
    },
    {
      "cell_type": "markdown",
      "source": [
        "Определяем функции для заполнения A и b"
      ],
      "metadata": {
        "id": "iMJxZdJdcVBz"
      }
    },
    {
      "cell_type": "code",
      "source": [
        "def a_element(i, j):\n",
        "    sum = 0\n",
        "    for k in range(N):\n",
        "        sum += x[k] ** (i + j)\n",
        "    return sum"
      ],
      "metadata": {
        "id": "DTxz4toRrPwZ"
      },
      "execution_count": 389,
      "outputs": []
    },
    {
      "cell_type": "code",
      "source": [
        "def b_element(i):\n",
        "    sum = 0\n",
        "    for k in range(N):\n",
        "        sum += y[k] * (x[k] ** i)\n",
        "    return sum"
      ],
      "metadata": {
        "id": "R6LHKv_VrUsi"
      },
      "execution_count": 390,
      "outputs": []
    },
    {
      "cell_type": "markdown",
      "source": [
        "Заполняем A и b"
      ],
      "metadata": {
        "id": "UL40SjcNobP-"
      }
    },
    {
      "cell_type": "code",
      "source": [
        "for i in range(M):\n",
        "  for j in range(M):\n",
        "    A[i][j] = a_element(i,j)\n",
        "\n",
        "for i in range(M):\n",
        "  b[i]=b_element(i)"
      ],
      "metadata": {
        "id": "SKSwSkvOogjO"
      },
      "execution_count": 391,
      "outputs": []
    },
    {
      "cell_type": "markdown",
      "source": [
        "Решаем уравнение и получаем вектор коэффициентов"
      ],
      "metadata": {
        "id": "GTdysiBVdrRF"
      }
    },
    {
      "cell_type": "code",
      "source": [
        "import scipy\n",
        "from scipy.linalg import solve\n",
        "\n",
        "c = solve(A,b)"
      ],
      "metadata": {
        "id": "ihfooA-GeWeX"
      },
      "execution_count": 392,
      "outputs": []
    },
    {
      "cell_type": "markdown",
      "source": [
        "Зная коэффициенты полинома, реализуем функцию определения значения полинома в точке"
      ],
      "metadata": {
        "id": "7pmN9lRYon18"
      }
    },
    {
      "cell_type": "code",
      "source": [
        "def calc_poly(x):\n",
        "    sum = 0\n",
        "    for i in range(M):\n",
        "        sum += c[i] * x ** i\n",
        "    return sum"
      ],
      "metadata": {
        "id": "J4_M6nnHo5iE"
      },
      "execution_count": 393,
      "outputs": []
    },
    {
      "cell_type": "markdown",
      "source": [
        "Отобразим полученные значения зависимостей на графиках"
      ],
      "metadata": {
        "id": "dNNri2N8o-lJ"
      }
    },
    {
      "cell_type": "code",
      "source": [
        "plt.scatter(x, y, label='Исходные данные')\n",
        "plt.plot(xx, yy, color='red', label='Истинная зависимость')\n",
        "plt.plot(xx, calc_poly(xx), color='green', label='Полиномиальная регрессия')\n",
        "plt.xlabel('x')\n",
        "plt.ylabel('y')\n",
        "plt.legend()\n",
        "plt.show()"
      ],
      "metadata": {
        "colab": {
          "base_uri": "https://localhost:8080/",
          "height": 449
        },
        "id": "FdVTYANYpNc2",
        "outputId": "46a96072-0047-427e-ccff-2d0509aa10d9"
      },
      "execution_count": 394,
      "outputs": [
        {
          "output_type": "display_data",
          "data": {
            "text/plain": [
              "<Figure size 640x480 with 1 Axes>"
            ],
            "image/png": "[encoded data removed]"
          },
          "metadata": {}
        }
      ]
    }
  ]
}